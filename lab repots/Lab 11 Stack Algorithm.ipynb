{
 "cells": [
  {
   "cell_type": "markdown",
   "id": "022ef6a7-b473-4359-b19d-48c264b95bfa",
   "metadata": {},
   "source": [
    "# <center><span style=\"font-family: Arial, sans-serif; font-size: 24px; font-weight: bold;\">Fall EE-271 OOP and Data Structures Lab</span></Center>\n"
   ]
  },
  {
   "cell_type": "markdown",
   "id": "aada4bb3-11e3-46dd-8c77-02132555d17d",
   "metadata": {},
   "source": [
    "## ***STACK ALGORITHM***\n",
    "\n",
    "### AIM:  \n",
    "To understand the concepts of Stack data structure in Python.  \n",
    "\n",
    "### INTRODUCTION:  \n",
    "A stack is a fundamental data structure that follows the Last In, First Out (LIFO) principle.  \n",
    "This means the last element added to the stack is the first to be removed.  \n",
    "\n",
    "### TYPES OF STACK:  \n",
    "i. **List Stack**  \n",
    "ii. **Deque Stack**  \n",
    "iii. **Node-based Stack**  \n",
    "\n",
    "--------------------------------------------------------------------------------------------------------------------------"
   ]
  },
  {
   "cell_type": "markdown",
   "id": "24f6a078-2e0e-47c8-ba76-377341773d5a",
   "metadata": {},
   "source": [
    "# LAB REPORT TASK  \n",
    "\n",
    "### TASK:  \n",
    "i. Make a node-based implementation for Stack and:  \n",
    "   - Pass different data types.  \n",
    "   - Push and pop different items.  \n",
    "   - Display the top item.  \n"
   ]
  },
  {
   "cell_type": "code",
   "execution_count": 11,
   "id": "944746e7-92ec-45a8-a21c-9bc859b1075e",
   "metadata": {},
   "outputs": [],
   "source": [
    "class Node:\n",
    "    def __init__(self, data):\n",
    "        self.data = data\n",
    "        self.next = None\n",
    "\n",
    "class NodeStack:\n",
    "    def __init__(self):\n",
    "        self.top = None\n",
    "\n",
    "    def is_empty(self):\n",
    "        return self.top is None\n",
    "\n",
    "    def push(self, item):\n",
    "        new_node = Node(item)\n",
    "        new_node.next = self.top\n",
    "        self.top = new_node\n",
    "\n",
    "    def pop(self):\n",
    "        if not self.is_empty():\n",
    "            popped_item = self.top.data\n",
    "            self.top = self.top.next\n",
    "            return popped_item\n",
    "        else:\n",
    "            print(\"Stack is empty\")\n"
   ]
  },
  {
   "cell_type": "markdown",
   "id": "f3a27fb5-15b0-44aa-9c76-b553c495d497",
   "metadata": {},
   "source": [
    "# IMPLEMENTATION OF STACKS IN PYTHON  \n",
    "\n",
    "## 1. List Stack:  \n",
    "\n",
    "A stack can be implemented in Python using lists. Lists provide built-in methods that make it easy to add and remove elements, following the Last In, First Out (LIFO) principle.  \n"
   ]
  },
  {
   "cell_type": "code",
   "execution_count": 12,
   "id": "72d84dfc-80df-46cf-834c-9c2895fec9c5",
   "metadata": {},
   "outputs": [],
   "source": [
    "class StackList:\n",
    "    def __init__(self):\n",
    "        self.items = []\n",
    "\n",
    "    def is_empty(self):\n",
    "        return len(self.items) == 0\n",
    "\n",
    "    def push(self, item):\n",
    "        self.items.append(item)\n",
    "\n",
    "    def pop(self):\n",
    "        if not self.is_empty():\n",
    "            return self.items.pop()\n",
    "        else:\n",
    "            print(\"Stack is empty\")\n",
    "\n",
    "    def peek(self):\n",
    "        if not self.is_empty():\n",
    "            return self.items[-1]\n",
    "        else:\n",
    "            print(\"Stack is empty\")\n",
    "\n",
    "    def size(self):\n",
    "        return len(self.items)\n"
   ]
  },
  {
   "cell_type": "markdown",
   "id": "57d5e9eb-c32f-4f57-807c-55616006c375",
   "metadata": {},
   "source": [
    "### Creating an Object of the `EquilateralTriangle` Class\n",
    "\n",
    "To create an object of the `EquilateralTriangle` class, you first need to define the class, then instantiate an object of that class by providing the required parameters (e.g., side length). Below is an example of creating and using an object of the `EquilateralTriangle` class in Python:\n"
   ]
  },
  {
   "cell_type": "code",
   "execution_count": 13,
   "id": "10b71669-f72c-445d-a77e-3496d663e81f",
   "metadata": {},
   "outputs": [],
   "source": [
    "Stack = StackList()"
   ]
  },
  {
   "cell_type": "markdown",
   "id": "0e927507-014d-4545-bc01-e086877d4585",
   "metadata": {},
   "source": [
    "### Explanation of the Stack Implementation:\n",
    "\n",
    "- **`__init__` Method**  \n",
    "  Initializes an empty list to store the stack elements.\n",
    "\n",
    "- **`is_empty()`**  \n",
    "  Checks if the stack is empty.\n",
    "\n",
    "- **`push(item)`**  \n",
    "  Adds an item to the top of the stack using the `append()` method.\n"
   ]
  },
  {
   "cell_type": "code",
   "execution_count": 14,
   "id": "96382588-f055-4b6e-84d1-bed9f43b8c42",
   "metadata": {},
   "outputs": [],
   "source": [
    "Stack.push(1)\n",
    "Stack.push(2)\n",
    "Stack.push(3)"
   ]
  },
  {
   "cell_type": "markdown",
   "id": "7161fb5f-acc7-4047-9ca3-b6649964dbe2",
   "metadata": {},
   "source": [
    "- **`pop()`**  \n",
    "  Removes and returns the item from the top of the stack using the `pop()` method.\n"
   ]
  },
  {
   "cell_type": "code",
   "execution_count": 15,
   "id": "d7335977-279b-4696-b489-053a2f738610",
   "metadata": {},
   "outputs": [
    {
     "name": "stdout",
     "output_type": "stream",
     "text": [
      "Pop:  3\n"
     ]
    }
   ],
   "source": [
    "print(\"Pop: \", Stack.pop())"
   ]
  },
  {
   "cell_type": "markdown",
   "id": "27a6e887-1935-4779-ac3c-4208e68a7494",
   "metadata": {},
   "source": [
    "- **peek()**: Returns the item from the top of the stack without removing it."
   ]
  },
  {
   "cell_type": "code",
   "execution_count": 16,
   "id": "56b43c9c-91d3-4b4c-b4ea-4b67249df88a",
   "metadata": {},
   "outputs": [
    {
     "name": "stdout",
     "output_type": "stream",
     "text": [
      "Peak:  2\n"
     ]
    }
   ],
   "source": [
    "print(\"Peak: \", Stack.size())"
   ]
  },
  {
   "cell_type": "markdown",
   "id": "aa4d0fd9-17cc-4cff-a376-42017350673c",
   "metadata": {},
   "source": [
    "- **size()**: Returns the number of elements in the stack."
   ]
  },
  {
   "cell_type": "markdown",
   "id": "3352db40-d207-4908-8d57-e6800b494187",
   "metadata": {},
   "source": [
    "### Deque Implementation\n",
    "\n",
    "A **deque** (double-ended queue) is a versatile data structure that allows efficient insertion and deletion operations at both ends. \n",
    "\n",
    "In Python, you can implement a deque using the `collections.deque` class.\n"
   ]
  },
  {
   "cell_type": "code",
   "execution_count": 40,
   "id": "ce091411-dab9-4ab5-9593-8b54fd0d29c0",
   "metadata": {},
   "outputs": [],
   "source": [
    "from collections import deque\n",
    "\n",
    "class StackDeque:\n",
    "    def __init__(self):\n",
    "        self.items = deque()\n",
    "    \n",
    "    def is_empty(self):\n",
    "        return len(self.items) == 0\n",
    "    \n",
    "    def push(self, item):\n",
    "        self.items.append(item)\n",
    "    \n",
    "    def pop(self):\n",
    "        if not self.is_empty():\n",
    "            return self.items.pop()\n",
    "        else:\n",
    "            print(\"Stack is empty\")\n",
    "    \n",
    "    def peek(self):\n",
    "        if not self.is_empty():\n",
    "            return self.items[-1]\n",
    "        else:\n",
    "            print(\"Stack is empty\")\n",
    "    \n",
    "    def size(self):\n",
    "        return len(self.items)\n",
    "\n",
    "    def __str__(self):\n",
    "        return f\"{type(self).__name__}: {self.push()}\""
   ]
  },
  {
   "cell_type": "markdown",
   "id": "9751e06e-e1b4-4d9a-bd25-f4c466fe0055",
   "metadata": {},
   "source": [
    "### a. Creating Data Types in Deque Stack Implementation\n",
    "\n",
    "To create a stack using the `deque` data structure, we define a custom class, such as `StackDeque`. This class provides methods for common stack operations like checking if the stack is empty, pushing elements, popping elements, peeking at the top element, and getting the size of the stack.\n"
   ]
  },
  {
   "cell_type": "code",
   "execution_count": 41,
   "id": "5db388f1-329e-48d4-89b2-9993462dbaa7",
   "metadata": {},
   "outputs": [],
   "source": [
    "stack1 = StackDeque()\n",
    "stack2 = StackDeque()"
   ]
  },
  {
   "cell_type": "markdown",
   "id": "25621ac2-14a8-491a-bbbe-2e3096345898",
   "metadata": {},
   "source": [
    "#### Pushing element in Stack:"
   ]
  },
  {
   "cell_type": "code",
   "execution_count": 42,
   "id": "98efc5e9-1ccc-48bb-8f23-aab0c628de54",
   "metadata": {},
   "outputs": [],
   "source": [
    "stack1.push(1)\n",
    "stack1.push(2)\n",
    "stack1.push(3)"
   ]
  },
  {
   "cell_type": "code",
   "execution_count": 43,
   "id": "001f6c4d-273b-411d-a5d4-46a9877b1ade",
   "metadata": {},
   "outputs": [],
   "source": [
    "stack2.push(\"apple\")\n",
    "stack2.push(\"banana\")\n",
    "stack2.push(\"cherry\")"
   ]
  },
  {
   "cell_type": "code",
   "execution_count": null,
   "id": "c611ab08-b2e5-4522-ad2d-894d01118557",
   "metadata": {},
   "outputs": [],
   "source": [
    "print(\"Stack1:\", stack1)\n",
    "print(\"Stack2:\", stack2)"
   ]
  },
  {
   "cell_type": "markdown",
   "id": "eff6cab9-0a36-462c-99fc-ce45210dc678",
   "metadata": {},
   "source": [
    "#### Popping out element from Stack."
   ]
  },
  {
   "cell_type": "code",
   "execution_count": 46,
   "id": "810c94cb-12df-4356-9f92-111b7a8a3d3f",
   "metadata": {},
   "outputs": [],
   "source": [
    "popped1 = stack1.pop()\n",
    "popped2 = stack1.pop()"
   ]
  },
  {
   "cell_type": "code",
   "execution_count": 47,
   "id": "ac8a8e3f-4117-4c44-8689-35987c418bbf",
   "metadata": {},
   "outputs": [],
   "source": [
    "popped3 = stack2.pop()\n",
    "popped4 = stack2.pop()"
   ]
  },
  {
   "cell_type": "code",
   "execution_count": 48,
   "id": "c67e75d2-6357-40ce-a038-276943a7b03d",
   "metadata": {},
   "outputs": [
    {
     "name": "stdout",
     "output_type": "stream",
     "text": [
      "Popped from Stack1: 3 2\n",
      "Popped from Stack2: cherry banana\n"
     ]
    },
    {
     "ename": "AttributeError",
     "evalue": "'StackDeque' object has no attribute 'stack'",
     "output_type": "error",
     "traceback": [
      "\u001b[1;31m---------------------------------------------------------------------------\u001b[0m",
      "\u001b[1;31mAttributeError\u001b[0m                            Traceback (most recent call last)",
      "Cell \u001b[1;32mIn[48], line 3\u001b[0m\n\u001b[0;32m      1\u001b[0m \u001b[38;5;28mprint\u001b[39m(\u001b[38;5;124m\"\u001b[39m\u001b[38;5;124mPopped from Stack1:\u001b[39m\u001b[38;5;124m\"\u001b[39m, popped1, popped2)\n\u001b[0;32m      2\u001b[0m \u001b[38;5;28mprint\u001b[39m(\u001b[38;5;124m\"\u001b[39m\u001b[38;5;124mPopped from Stack2:\u001b[39m\u001b[38;5;124m\"\u001b[39m, popped3, popped4)\n\u001b[1;32m----> 3\u001b[0m \u001b[38;5;28mprint\u001b[39m(\u001b[38;5;124m\"\u001b[39m\u001b[38;5;124mCurrent Stack1:\u001b[39m\u001b[38;5;124m\"\u001b[39m, \u001b[43mstack1\u001b[49m\u001b[38;5;241;43m.\u001b[39;49m\u001b[43mstack\u001b[49m)\n\u001b[0;32m      4\u001b[0m \u001b[38;5;28mprint\u001b[39m(\u001b[38;5;124m\"\u001b[39m\u001b[38;5;124mCurrent Stack2:\u001b[39m\u001b[38;5;124m\"\u001b[39m, stack2\u001b[38;5;241m.\u001b[39mstack)\n",
      "\u001b[1;31mAttributeError\u001b[0m: 'StackDeque' object has no attribute 'stack'"
     ]
    }
   ],
   "source": [
    "print(\"Popped from Stack1:\", popped1, popped2)\n",
    "print(\"Popped from Stack2:\", popped3, popped4)\n",
    "print(\"Current Stack1:\", stack1.stack)\n",
    "print(\"Current Stack2:\", stack2.stack)"
   ]
  },
  {
   "cell_type": "markdown",
   "id": "092c09bb-cd35-4b5f-9b95-b264485b5558",
   "metadata": {},
   "source": [
    "## 2. Node-Based Implementation\n",
    "\n",
    "### i. Overview\n",
    "A node-based implementation refers to a data structure or algorithm design that involves the use of **nodes**, where each node contains:\n",
    "- **Data**: The value or information stored in the node.\n",
    "- **Reference (or Link)**: A pointer to the next node in the sequence.\n",
    "- **Stacks**"
   ]
  },
  {
   "cell_type": "code",
   "execution_count": 28,
   "id": "e6f0f6ef-1322-41a6-a542-02710fcd8418",
   "metadata": {},
   "outputs": [],
   "source": [
    "class Node:\n",
    "    def __init__(self, data):\n",
    "        self.data = data\n",
    "        self.next = None\n"
   ]
  },
  {
   "cell_type": "markdown",
   "id": "ee965401-7cc1-4c08-93ba-769bfa2baf36",
   "metadata": {},
   "source": [
    "#### a.The NodeStack class maintains a reference to the top of the stack (top)"
   ]
  },
  {
   "cell_type": "code",
   "execution_count": 49,
   "id": "1163a635-b768-49b7-83ba-2a6b599b3f3f",
   "metadata": {},
   "outputs": [],
   "source": [
    "class NodeStack:\n",
    "    def __init__(self):\n",
    "        self.top = None"
   ]
  },
  {
   "cell_type": "markdown",
   "id": "c28d023a-0b19-46ef-95ba-02b9e420be0e",
   "metadata": {},
   "source": [
    "#### b.The push() method adds a new node to the top of the stack."
   ]
  },
  {
   "cell_type": "code",
   "execution_count": 50,
   "id": "876ae8f1-35f3-4c49-b6ca-2346b7c73e27",
   "metadata": {},
   "outputs": [],
   "source": [
    "def push(self, item):\n",
    "  new_node = Node(item)\n",
    "  new_node.next = self.top\n",
    "  self.top = new_node"
   ]
  },
  {
   "cell_type": "markdown",
   "id": "c9a8f6b9-6684-4599-9695-a26e19bf8662",
   "metadata": {},
   "source": [
    "#### c.The pop() method removes and returns the item from the top of the stack."
   ]
  },
  {
   "cell_type": "code",
   "execution_count": 51,
   "id": "efa30f87-1edb-4aab-a89b-25bf03d02717",
   "metadata": {},
   "outputs": [],
   "source": [
    "def pop(self):\n",
    "    if not self.is_empty():\n",
    "        popped_item = self.top.data\n",
    "        self.top = self.top.next\n",
    "        return popped_item\n",
    "    else:\n",
    "        print(\"Stack is empty\")"
   ]
  },
  {
   "cell_type": "markdown",
   "id": "ff4cf33b-8714-4e81-87a2-3f5b60f497a1",
   "metadata": {},
   "source": [
    "#### d.The peek() method returns the item from the top of the stack without removing it."
   ]
  },
  {
   "cell_type": "code",
   "execution_count": 52,
   "id": "bb1a889c-9426-4bb7-b930-673377e317c8",
   "metadata": {},
   "outputs": [],
   "source": [
    "def peek(self):\n",
    "    if not self.is_empty():\n",
    "        return self.top.data\n",
    "    else:\n",
    "        print(\"stack is empty\")"
   ]
  },
  {
   "cell_type": "markdown",
   "id": "0da2f00d-a2b9-43b0-bcf9-58a0278f3c1c",
   "metadata": {},
   "source": [
    "#### e.The size() method calculates the number of elements in the stack by traversing the linked nodes."
   ]
  },
  {
   "cell_type": "code",
   "execution_count": 53,
   "id": "4acb9402-b133-41f6-844e-06fa16288abd",
   "metadata": {},
   "outputs": [],
   "source": [
    "def size(self):\n",
    "    current=self.top\n",
    "    count=0\n",
    "    while current:\n",
    "        count +=1\n",
    "        current=current.next\n",
    "    return count"
   ]
  },
  {
   "cell_type": "markdown",
   "id": "7c93f757-5748-435c-a363-bb1bb5d7a3c4",
   "metadata": {},
   "source": [
    "##  3.NOW CREATING INSTANCES:"
   ]
  },
  {
   "cell_type": "markdown",
   "id": "836ea16f-c9ff-4c21-b382-4faf3dde9983",
   "metadata": {},
   "source": [
    "#### a. Creating instances of Node base Stack and apply push pop and other methods on that instance."
   ]
  },
  {
   "cell_type": "code",
   "execution_count": 57,
   "id": "f0591c20-c31a-4fbb-9444-ca5b98ccd85e",
   "metadata": {},
   "outputs": [],
   "source": [
    "class Node:\n",
    "    def __init__(self, data):\n",
    "        self.data = data\n",
    "        self.next = None\n",
    "\n",
    "class NodeStack:\n",
    "    def __init__(self):\n",
    "        self.top = None\n",
    "\n",
    "    def push(self, item):\n",
    "        new_node = Node(item)\n",
    "        new_node.next = self.top\n",
    "        self.top = new_node\n",
    "\n",
    "    def pop(self):\n",
    "        if not self.is_empty():\n",
    "            popped_item = self.top.data\n",
    "            self.top = self.top.next\n",
    "            return popped_item\n",
    "        else:\n",
    "            print(\"Stack is empty\")\n",
    "\n",
    "    def peek(self):\n",
    "        if not self.is_empty():\n",
    "            return self.top.data\n",
    "        else:\n",
    "            print(\"Stack is empty\")\n",
    "\n",
    "    def size(self):\n",
    "        current = self.top\n",
    "        count = 0\n",
    "        while current:\n",
    "            count += 1\n",
    "            current = current.next\n",
    "        return count\n",
    "\n",
    "    def is_empty(self):\n",
    "        return self.top is None"
   ]
  },
  {
   "cell_type": "code",
   "execution_count": 58,
   "id": "058cad8a-a352-4cb5-b505-2e6445095d46",
   "metadata": {},
   "outputs": [],
   "source": [
    "stack=NodeStack()"
   ]
  },
  {
   "cell_type": "code",
   "execution_count": 59,
   "id": "4731689a-1682-45a5-af0b-11bf110e4c02",
   "metadata": {},
   "outputs": [],
   "source": [
    "stack.push(1)\n",
    "stack.push(2)\n",
    "stack.push(3)"
   ]
  },
  {
   "cell_type": "code",
   "execution_count": 60,
   "id": "da8e6243-9116-47e0-aee2-3740e6a70020",
   "metadata": {},
   "outputs": [
    {
     "name": "stdout",
     "output_type": "stream",
     "text": [
      "Peek: 3\n",
      "Pop: 3\n",
      "Stack size: 2\n"
     ]
    }
   ],
   "source": [
    "print(\"Peek:\", stack.peek())\n",
    "print(\"Pop:\", stack.pop())\n",
    "print(\"Stack size:\", stack.size())"
   ]
  }
 ],
 "metadata": {
  "kernelspec": {
   "display_name": "Python 3 (ipykernel)",
   "language": "python",
   "name": "python3"
  },
  "language_info": {
   "codemirror_mode": {
    "name": "ipython",
    "version": 3
   },
   "file_extension": ".py",
   "mimetype": "text/x-python",
   "name": "python",
   "nbconvert_exporter": "python",
   "pygments_lexer": "ipython3",
   "version": "3.9.20"
  }
 },
 "nbformat": 4,
 "nbformat_minor": 5
}
